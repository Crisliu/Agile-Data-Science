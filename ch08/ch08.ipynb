{
 "cells": [
  {
   "cell_type": "code",
   "execution_count": 30,
   "metadata": {
    "collapsed": true
   },
   "outputs": [],
   "source": [
    "import findspark\n",
    "findspark.init()\n",
    "import pyspark\n",
    "import pyspark.sql\n",
    "from pyspark import SparkConf\n",
    "from pyspark import SparkContext\n",
    "conf = SparkConf()#\n",
    "conf.set(\"spark.python.profile\", \"true\")\n",
    "#conf = sc.getConf()\n",
    "conf.set( \"spark.driver.memory\", \"4g\" )\n",
    "conf.set( \"spark.jars\",\"/Users/crisliu/agile/lib/mongo-hadoop-spark-2.0.2.jar,\\\n",
    "/Users/crisliu/agile/lib/mongo-java-driver-3.4.0.jar,\\\n",
    "/Users/crisliu/agile/lib/elasticsearch-spark-20_2.10-5.0.0-alpha5.jar,\\\n",
    "/Users/crisliu/agile/lib/snappy-java-1.1.2.6.jar,\\\n",
    "/Users/crisliu/agile/lib/lzo-hadoop-1.0.5.jar\")\n",
    "#/Users/crisliu/agile/lib/elasticsearch-hadoop-5.0.0-alpha5.jar\"\n",
    "#conf.set(\"spark.executor.extraClassPath\",\"~\")\n",
    "sc = SparkContext('local', 'test', conf=conf)\n",
    "#sc = pyspark.SparkContext()\n",
    "APP_NAME = \"my_script.py\"\n",
    "spark = pyspark.sql.SparkSession(sc).builder.appName(APP_NAME).getOrCreate()"
   ]
  },
  {
   "cell_type": "markdown",
   "metadata": {},
   "source": [
    "# get_flight_distance"
   ]
  },
  {
   "cell_type": "code",
   "execution_count": 4,
   "metadata": {},
   "outputs": [
    {
     "data": {
      "text/plain": [
       "0"
      ]
     },
     "execution_count": 4,
     "metadata": {},
     "output_type": "execute_result"
    }
   ],
   "source": [
    "import sys, os, re\n",
    "import json\n",
    "\n",
    "# Load the on-time parquet file\n",
    "on_time_dataframe = spark.read.parquet('../data/on_time_performance.parquet')\n",
    "on_time_dataframe.registerTempTable(\"on_time_performance\")\n",
    "\n",
    "origin_dest_distances = spark.sql(\"\"\"\n",
    "  SELECT Origin, Dest, AVG(Distance) AS Distance\n",
    "  FROM on_time_performance\n",
    "  GROUP BY Origin, Dest\n",
    "  ORDER BY Distance\n",
    "  \"\"\")\n",
    "origin_dest_distances.repartition(1).write.mode(\"overwrite\").json(\"../data/origin_dest_distances.json\")\n",
    "os.system(\"cp ../data/origin_dest_distances.json/part* ../data/origin_dest_distances.jsonl\")\n"
   ]
  },
  {
   "cell_type": "code",
   "execution_count": 5,
   "metadata": {},
   "outputs": [
    {
     "name": "stdout",
     "output_type": "stream",
     "text": [
      "2017-10-18T22:06:47.714-0400\tFailed: open  ../data/origin_dest_distances.jsonl: no such file or directory\r\n",
      "2017-10-18T22:06:47.714-0400\timported 0 documents\r\n"
     ]
    }
   ],
   "source": [
    "!mongoimport -d agile_data_science -c origin_dest_distances --file \\ ../data/origin_dest_distances.jsonl"
   ]
  },
  {
   "cell_type": "markdown",
   "metadata": {},
   "source": [
    "# Testing Our API"
   ]
  },
  {
   "cell_type": "code",
   "execution_count": 11,
   "metadata": {},
   "outputs": [
    {
     "name": "stdout",
     "output_type": "stream",
     "text": [
      "{\"Delay\": -38.364848600785905}"
     ]
    }
   ],
   "source": [
    "!curl -XPOST 'http://localhost:5000/flights/delays/predict/regress' \\\n",
    "-F 'DepDelay=5.0' -F 'Carrier=AA' -F 'FlightDate=2015-12-23' \\\n",
    "-F 'Dest=ATL' -F 'FlightNum=1519' -F 'Origin=SFO' "
   ]
  },
  {
   "cell_type": "code",
   "execution_count": 2,
   "metadata": {},
   "outputs": [
    {
     "data": {
      "text/plain": [
       "datetime.datetime(2015, 12, 23, 0, 0, tzinfo=datetime.timezone.utc)"
      ]
     },
     "execution_count": 2,
     "metadata": {},
     "output_type": "execute_result"
    }
   ],
   "source": [
    "import iso8601\n",
    "iso8601.parse_date('2015-12-23')\n",
    "from web import predict_utils\n",
    "predict_utils.get_regression_date_args('2015-12-23')"
   ]
  },
  {
   "cell_type": "code",
   "execution_count": 21,
   "metadata": {},
   "outputs": [
    {
     "name": "stdout",
     "output_type": "stream",
     "text": [
      "  % Total    % Received % Xferd  Average Speed   Time    Time     Time  Current\n",
      "                                 Dload  Upload   Total   Spent    Left  Speed\n",
      "100   924  100   275  100   649    404    953 --:--:-- --:--:-- --:--:--  1014\n",
      "{\n",
      "   \"_id\" : {\n",
      "      \"$oid\" : \"59ffb8584951c415293d3c1a\"\n",
      "   },\n",
      "   \"DayOfWeek\" : 4,\n",
      "   \"Carrier\" : \"AA\",\n",
      "   \"DayOfYear\" : 358,\n",
      "   \"Timestamp\" : \"2017-11-05T20:18:16.707646\",\n",
      "   \"Origin\" : \"SFO\",\n",
      "   \"DayOfMonth\" : 23,\n",
      "   \"DepDelay\" : 5,\n",
      "   \"FlightNum\" : \"1519\",\n",
      "   \"Dest\" : \"ATL\",\n",
      "   \"FlightDate\" : \"2016-12-23\",\n",
      "   \"Distance\" : 2139\n",
      "}\n"
     ]
    }
   ],
   "source": [
    "!curl -XPOST 'http://localhost:5000/flights/delays/predict/classify' \\\n",
    "-F 'DepDelay=5.0' -F 'Carrier=AA' -F 'FlightDate=2016-12-23' \\\n",
    "-F 'Dest=ATL' -F 'FlightNum=1519' -F 'Origin=SFO' \\\n",
    "| json_pp"
   ]
  },
  {
   "cell_type": "markdown",
   "metadata": {},
   "source": [
    "# fetch_prediction_requests.py"
   ]
  },
  {
   "cell_type": "code",
   "execution_count": 50,
   "metadata": {},
   "outputs": [],
   "source": [
    "import json\n",
    "import datetime, iso8601\n",
    "import os\n",
    "\n",
    "# Save to Mongo\n",
    "from bson import json_util\n",
    "import pymongo_spark\n",
    "pymongo_spark.activate()"
   ]
  },
  {
   "cell_type": "code",
   "execution_count": 83,
   "metadata": {
    "collapsed": true
   },
   "outputs": [],
   "source": [
    "base_path = '/Users/crisliu/agile/'\n",
    "iso_date = '2017-11-05'\n",
    "\n",
    "# Get today and tomorrow's dates as iso strings to scope query\n",
    "today_dt = iso8601.parse_date(iso_date)\n",
    "rounded_today = today_dt.date()\n",
    "iso_today = rounded_today.isoformat()\n",
    "rounded_tomorrow_dt = rounded_today + datetime.timedelta(days=1)\n",
    "iso_tomorrow = rounded_tomorrow_dt.isoformat()\n",
    "\n",
    "# Create mongo query string for today's data\n",
    "mongo_query_string = \"\"\"{{\n",
    "\"Timestamp\": {{\n",
    "  \"$gte\": \"{iso_today}\",\n",
    "  \"$lte\": \"{iso_tomorrow}\"\n",
    "}}\n",
    "}}\"\"\".format(\n",
    "iso_today=iso_today,\n",
    "iso_tomorrow=iso_tomorrow\n",
    ")\n",
    "mongo_query_string = mongo_query_string.replace('\\n', '')"
   ]
  },
  {
   "cell_type": "code",
   "execution_count": 84,
   "metadata": {},
   "outputs": [],
   "source": [
    "# Create the config object with the query string\n",
    "mongo_query_config = dict()\n",
    "mongo_query_config[\"mongo.input.query\"] = mongo_query_string\n",
    "\n",
    "# Load the day's requests using pymongo_spark\n",
    "prediction_requests = sc.mongoRDD(\n",
    "        'mongodb://localhost:27017/agile_data_science.prediction_tasks',\n",
    "        config=mongo_query_config\n",
    ")\n",
    "\n",
    "# Build the day's output path: a date based primary key directory structure\n",
    "today_output_path = \"{}Agile_Data_Code_2/data/prediction_tasks_daily.json/{}\".format(\n",
    "base_path,\n",
    "iso_today\n",
    ")\n",
    "\n",
    "# Generate json records\n",
    "prediction_requests_json = prediction_requests.map(json_util.dumps)\n",
    "\n",
    "# Write/replace today's output path\n",
    "os.system(\"rm -rf {}\".format(today_output_path))\n",
    "prediction_requests_json.saveAsTextFile(today_output_path)\n",
    "os.system(\"cp {}/part* {}.jsonl\".format(today_output_path,today_output_path))\n"
   ]
  },
  {
   "cell_type": "code",
   "execution_count": 87,
   "metadata": {},
   "outputs": [
    {
     "name": "stdout",
     "output_type": "stream",
     "text": [
      "{\"Carrier\": \"AA\", \"DayOfMonth\": 23, \"Timestamp\": \"2017-11-05T20:18:16.707646\", \"_id\": {\"$oid\": \"59ffb8584951c415293d3c1a\"}, \"Distance\": 2139.0, \"DayOfYear\": 358, \"Dest\": \"ATL\", \"FlightNum\": \"1519\", \"FlightDate\": \"2016-12-23\", \"DayOfWeek\": 4, \"Origin\": \"SFO\", \"DepDelay\": 5.0}\r\n",
      "{\"Carrier\": \"AA\", \"DayOfMonth\": 31, \"Timestamp\": \"2017-11-05T20:21:30.225769\", \"_id\": {\"$oid\": \"59ffb91a4951c415293d3c1b\"}, \"Distance\": 2586.0, \"DayOfYear\": 366, \"Dest\": \"SFO\", \"FlightNum\": \"712\", \"FlightDate\": \"2016-12-31\", \"DayOfWeek\": 5, \"Origin\": \"JFK\", \"DepDelay\": 15.0}\r\n",
      "{\"Carrier\": \"DL\", \"DayOfMonth\": 31, \"Timestamp\": \"2017-11-05T20:22:09.632064\", \"_id\": {\"$oid\": \"59ffb9414951c415293d3c1c\"}, \"Distance\": 2182.0, \"DayOfYear\": 366, \"Dest\": \"SEA\", \"FlightNum\": \"1519\", \"FlightDate\": \"2016-12-31\", \"DayOfWeek\": 5, \"Origin\": \"ATL\", \"DepDelay\": 10.0}\r\n"
     ]
    }
   ],
   "source": [
    "!cat ../data/prediction_tasks_daily.json/2017-11-05.jsonl"
   ]
  },
  {
   "cell_type": "markdown",
   "metadata": {},
   "source": [
    "# spark-submit ../ch08/make_predictions.py 2017-11-05 ."
   ]
  },
  {
   "cell_type": "code",
   "execution_count": 102,
   "metadata": {
    "collapsed": true
   },
   "outputs": [
    {
     "name": "stdout",
     "output_type": "stream",
     "text": [
      "SLF4J: Failed to load class \"org.slf4j.impl.StaticLoggerBinder\".\n",
      "SLF4J: Defaulting to no-operation (NOP) logger implementation\n",
      "SLF4J: See http://www.slf4j.org/codes.html#StaticLoggerBinder for further details.\n",
      "+-------+----------+---------+---------+--------+----+--------+----------+---------+------+--------------------+\n",
      "|Carrier|DayOfMonth|DayOfWeek|DayOfYear|DepDelay|Dest|Distance|FlightDate|FlightNum|Origin|           Timestamp|\n",
      "+-------+----------+---------+---------+--------+----+--------+----------+---------+------+--------------------+\n",
      "|     AA|        23|        4|      358|     5.0| ATL|  2139.0|2016-12-23|     1519|   SFO|2017-11-05 20:18:...|\n",
      "|     AA|        31|        5|      366|    15.0| SFO|  2586.0|2016-12-31|      712|   JFK|2017-11-05 20:21:...|\n",
      "|     DL|        31|        5|      366|    10.0| SEA|  2182.0|2016-12-31|     1519|   ATL|2017-11-05 20:22:...|\n",
      "+-------+----------+---------+---------+--------+----+--------+----------+---------+------+--------------------+\n",
      "\n",
      "+-------+----------+---------+---------+--------+----+--------+----------+---------+------+--------------------+-------+\n",
      "|Carrier|DayOfMonth|DayOfWeek|DayOfYear|DepDelay|Dest|Distance|FlightDate|FlightNum|Origin|           Timestamp|  Route|\n",
      "+-------+----------+---------+---------+--------+----+--------+----------+---------+------+--------------------+-------+\n",
      "|     AA|        23|        4|      358|     5.0| ATL|  2139.0|2016-12-23|     1519|   SFO|2017-11-05 20:18:...|SFO-ATL|\n",
      "|     AA|        31|        5|      366|    15.0| SFO|  2586.0|2016-12-31|      712|   JFK|2017-11-05 20:21:...|JFK-SFO|\n",
      "|     DL|        31|        5|      366|    10.0| SEA|  2182.0|2016-12-31|     1519|   ATL|2017-11-05 20:22:...|ATL-SEA|\n",
      "+-------+----------+---------+---------+--------+----+--------+----------+---------+------+--------------------+-------+\n",
      "\n",
      "Carrier\n",
      "Origin\n",
      "Dest\n",
      "Route\n",
      "+-------+----------+---------+---------+--------+----+--------+----------+---------+------+--------------------+-------+--------------------+\n",
      "|Carrier|DayOfMonth|DayOfWeek|DayOfYear|DepDelay|Dest|Distance|FlightDate|FlightNum|Origin|           Timestamp|  Route|        Features_vec|\n",
      "+-------+----------+---------+---------+--------+----+--------+----------+---------+------+--------------------+-------+--------------------+\n",
      "|     AA|        23|        4|      358|     5.0| ATL|  2139.0|2016-12-23|     1519|   SFO|2017-11-05 20:18:...|SFO-ATL|[5.0,2139.0,23.0,...|\n",
      "|     AA|        31|        5|      366|    15.0| SFO|  2586.0|2016-12-31|      712|   JFK|2017-11-05 20:21:...|JFK-SFO|[15.0,2586.0,31.0...|\n",
      "|     DL|        31|        5|      366|    10.0| SEA|  2182.0|2016-12-31|     1519|   ATL|2017-11-05 20:22:...|ATL-SEA|[10.0,2182.0,31.0...|\n",
      "+-------+----------+---------+---------+--------+----+--------+----------+---------+------+--------------------+-------+--------------------+\n",
      "\n",
      "+-------+----------+---------+---------+--------+----+--------+----------+---------+------+--------------------+-------+----------+\n",
      "|Carrier|DayOfMonth|DayOfWeek|DayOfYear|DepDelay|Dest|Distance|FlightDate|FlightNum|Origin|           Timestamp|  Route|Prediction|\n",
      "+-------+----------+---------+---------+--------+----+--------+----------+---------+------+--------------------+-------+----------+\n",
      "|     AA|        23|        4|      358|     5.0| ATL|  2139.0|2016-12-23|     1519|   SFO|2017-11-05 20:18:...|SFO-ATL|       1.0|\n",
      "|     AA|        31|        5|      366|    15.0| SFO|  2586.0|2016-12-31|      712|   JFK|2017-11-05 20:21:...|JFK-SFO|       2.0|\n",
      "|     DL|        31|        5|      366|    10.0| SEA|  2182.0|2016-12-31|     1519|   ATL|2017-11-05 20:22:...|ATL-SEA|       2.0|\n",
      "+-------+----------+---------+---------+--------+----+--------+----------+---------+------+--------------------+-------+----------+\n",
      "\n"
     ]
    }
   ],
   "source": [
    "! spark-submit ../ch08/make_predictions.py 2017-11-05 /Users/crisliu/agile"
   ]
  },
  {
   "cell_type": "markdown",
   "metadata": {},
   "source": [
    "# Storing Predictions in MongoDB"
   ]
  },
  {
   "cell_type": "code",
   "execution_count": 109,
   "metadata": {
    "collapsed": true
   },
   "outputs": [],
   "source": [
    "input_path = base_path + 'data/prediction_results_daily.json/' + '2017-11-05'"
   ]
  },
  {
   "cell_type": "code",
   "execution_count": 110,
   "metadata": {},
   "outputs": [],
   "source": [
    "# Load and JSONize text\n",
    "prediction_results_raw = sc.textFile(input_path)\n",
    "prediction_results = prediction_results_raw.map(json_util.loads)\n",
    "# Store to MongoDB\n",
    "prediction_results.saveToMongoDB(\n",
    "\"mongodb://localhost:27017/agile_data_science.prediction_results\"\n",
    ")"
   ]
  },
  {
   "cell_type": "code",
   "execution_count": null,
   "metadata": {
    "collapsed": true
   },
   "outputs": [],
   "source": [
    "#inspect our results in the Mongo console:\n",
    "db.prediction_results.find().pretty()"
   ]
  },
  {
   "cell_type": "markdown",
   "metadata": {},
   "source": [
    "# Setting up Air flow"
   ]
  },
  {
   "cell_type": "code",
   "execution_count": null,
   "metadata": {
    "collapsed": true
   },
   "outputs": [],
   "source": [
    " python ~/airflow/dags/setup.py"
   ]
  },
  {
   "cell_type": "code",
   "execution_count": null,
   "metadata": {
    "collapsed": true
   },
   "outputs": [],
   "source": [
    "airflow list_tasks agile_data_science_batch_prediction_model_training\n",
    "airflow list_tasks agile_data_science_batch_predictions_daily\n",
    "airflow test agile_data_science_batch_prediction_model_training pyspark_extract_features 2017-11-05\n",
    "airflow test agile_data_science_batch_predictions_daily pyspark_fetch_prediction_requests"
   ]
  },
  {
   "cell_type": "markdown",
   "metadata": {},
   "source": [
    "# Kafka"
   ]
  },
  {
   "cell_type": "code",
   "execution_count": null,
   "metadata": {
    "collapsed": true
   },
   "outputs": [],
   "source": [
    "kafka/bin/zookeeper-server-start.sh kafka/config/zookeeper.properties"
   ]
  },
  {
   "cell_type": "code",
   "execution_count": null,
   "metadata": {
    "collapsed": true
   },
   "outputs": [],
   "source": [
    "kafka/bin/kafka-server-start.sh kafka/config/server.properties"
   ]
  },
  {
   "cell_type": "code",
   "execution_count": null,
   "metadata": {
    "collapsed": true
   },
   "outputs": [],
   "source": [
    "kafka/bin/kafka-topics.sh --create --zookeeper localhost:2181 --replication-factor 1 --partitions 1 --topic flight_delay_classification_request"
   ]
  },
  {
   "cell_type": "code",
   "execution_count": null,
   "metadata": {
    "collapsed": true
   },
   "outputs": [],
   "source": [
    "kafka/bin/kafka-console-consumer.sh --bootstrap-server localhost:9092  --topic flight_delay_classification_request  --from-beginning"
   ]
  },
  {
   "cell_type": "code",
   "execution_count": 125,
   "metadata": {},
   "outputs": [
    {
     "name": "stdout",
     "output_type": "stream",
     "text": [
      "{\"status\": \"OK\", \"id\": \"b2498c0e-0766-4527-b926-e8bd9f2576b4\"}"
     ]
    }
   ],
   "source": [
    "!curl -XPOST 'http://localhost:5000/flights/delays/predict/classify_realtime' -F 'DepDelay=5.0' -F 'Carrier=AA' -F 'FlightDate=2016-12-23' -F 'Dest=ATL' -F 'FlightNum=1519' -F 'Origin=SFO'"
   ]
  },
  {
   "cell_type": "code",
   "execution_count": 130,
   "metadata": {},
   "outputs": [
    {
     "name": "stdout",
     "output_type": "stream",
     "text": [
      "{\"status\": \"WAIT\", \"id\": \"EXAMPLE_UUID_g3t03qtq3t\"}"
     ]
    }
   ],
   "source": [
    "!curl 'http://localhost:5000/flights/delays/predict/classify_realtime/response/EXAMPLE_UUID_g3t03qtq3t'"
   ]
  },
  {
   "cell_type": "code",
   "execution_count": null,
   "metadata": {
    "collapsed": true
   },
   "outputs": [],
   "source": [
    "db.flight_delay_classification_response.insert(\n",
    "      {\n",
    "        id: \"EXAMPLE_UUID_g3t03qtq3t\",\n",
    "        prediction: {\"test\": \"data\"}\n",
    "      }\n",
    ")"
   ]
  },
  {
   "cell_type": "code",
   "execution_count": 137,
   "metadata": {},
   "outputs": [
    {
     "name": "stdout",
     "output_type": "stream",
     "text": [
      "  % Total    % Received % Xferd  Average Speed   Time    Time     Time  Current\n",
      "                                 Dload  Upload   Total   Spent    Left  Speed\n",
      "100    51  100    51    0     0   2066      0 --:--:-- --:--:-- --:--:-- 51000\n",
      "{\n",
      "   \"status\" : \"WAIT\",\n",
      "   \"id\" : \"EXAMPLE_UUID_g3t03qtq3t\"\n",
      "}\n"
     ]
    }
   ],
   "source": [
    "!curl 'http://localhost:5000/flights/delays/predict/classify_realtime/response/EXAMPLE_UUID_g3t03qtq3t' | json_pp"
   ]
  },
  {
   "cell_type": "code",
   "execution_count": 136,
   "metadata": {},
   "outputs": [],
   "source": [
    "from pymongo import MongoClient\n",
    "client = MongoClient()\n",
    "prediction = \\\n",
    "        client.agile_data_science.flight_delay_classification_response.find_one(\n",
    "          {\n",
    "            \"id\": \"EXAMPLE_UUID_g3t03qtq3t\"\n",
    "} )"
   ]
  },
  {
   "cell_type": "code",
   "execution_count": 140,
   "metadata": {},
   "outputs": [],
   "source": [
    "response = {\"status\": \"WAIT\", \"id\": \"EXAMPLE_UUID_g3t03qtq3t\"}\n",
    "if prediction:\n",
    "        response[\"status\"] = \"OK\"\n",
    "        response[\"prediction\"] = prediction"
   ]
  },
  {
   "cell_type": "code",
   "execution_count": 141,
   "metadata": {},
   "outputs": [
    {
     "data": {
      "text/plain": [
       "{'id': 'EXAMPLE_UUID_g3t03qtq3t',\n",
       " 'prediction': {'_id': ObjectId('5a0286d00c19c8c331ed70ee'),\n",
       "  'id': 'EXAMPLE_UUID_g3t03qtq3t',\n",
       "  'prediction': {'test': 'data'}},\n",
       " 'status': 'OK'}"
      ]
     },
     "execution_count": 141,
     "metadata": {},
     "output_type": "execute_result"
    }
   ],
   "source": [
    "response"
   ]
  },
  {
   "cell_type": "markdown",
   "metadata": {},
   "source": [
    "# make_predictions_streaming.py"
   ]
  },
  {
   "cell_type": "code",
   "execution_count": null,
   "metadata": {
    "collapsed": true
   },
   "outputs": [],
   "source": []
  }
 ],
 "metadata": {
  "anaconda-cloud": {},
  "kernelspec": {
   "display_name": "Python [conda root]",
   "language": "python",
   "name": "conda-root-py"
  },
  "language_info": {
   "codemirror_mode": {
    "name": "ipython",
    "version": 3
   },
   "file_extension": ".py",
   "mimetype": "text/x-python",
   "name": "python",
   "nbconvert_exporter": "python",
   "pygments_lexer": "ipython3",
   "version": "3.5.4"
  }
 },
 "nbformat": 4,
 "nbformat_minor": 1
}
